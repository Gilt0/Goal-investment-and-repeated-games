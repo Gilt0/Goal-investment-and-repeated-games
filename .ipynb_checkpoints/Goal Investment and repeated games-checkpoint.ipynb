{
 "cells": [
  {
   "cell_type": "markdown",
   "id": "1b85f679",
   "metadata": {},
   "source": [
    "*The above references an opinion and is for information purposes only. It is not intended to be investment advice. Seek a duly licensed professional for investment advice.*\n",
    "\n",
    "\n",
    "# Investment Model\n",
    "\n",
    "Say you're an investor with an initial wealth $\\mathcal W_0$. There is a risky asset of returns $\\mu_k = m + \\sigma\\epsilon_k$ with $\\epsilon_k$ a gaussian white noise.\n",
    "\n",
    "As an investor we want to know what ratio of our cash $\\phi_k$ should go into the risky asset at every time step $k$.\n",
    "\n",
    "Our wealth's dynamics is defined recursively with the wealth increaments being equal to the gains from the risky investments over the period. We suppose that riskless rates are zero and therefore, the wealth at time $k + 1$ is\n",
    "$$\n",
    "\\mathcal W_{k + 1} = \\mathcal W_{k + 1}\\left( 1 + \\mu_k\\phi_k \\right).\n",
    "$$\n",
    "\n",
    "At a time horizon $K$, we thus have\n",
    "$$\n",
    "\\mathcal W_{K} = \\mathcal W_{0}\\prod_{k = 0}^{K - 1}\\left( 1 + \\mu_k\\phi_k \\right).\n",
    "$$\n",
    "\n",
    "Now, say we have an ideal investment goal of value $\\omega = \\left( 1 + R \\right)\\mathcal W_{0}$. Following  [Bouchaud and Potters](https://www.cambridge.org/core/books/theory-of-financial-risk-and-derivative-pricing/5BBBA04CE72ED9E5E7C1C028D9A94FCB \"My Quant bible\") (see page 218), I choose to minimise\n",
    "\n",
    "$$\n",
    "\\left< \\left( \\mathcal{W}_K^2 - \\omega \\right)^2 \\right>.\n",
    "$$\n",
    "After some algebra, the above quantity can be expressed as\n",
    "$$\n",
    "\\mathcal{W}_0^2 \\prod_{k = 0}^{K - 1} B\\left( \\phi_k \\right) - 2\\omega\\mathcal{W}_0\\prod_{k = 0}^{K - 1} A\\left( \\phi_k \\right) + \\omega^2\n",
    "$$\n",
    "with $A\\left(\\varphi\\right) = 1 + m\\varphi$ and $B\\left(\\varphi\\right) = \\left[ A\\left(\\varphi\\right)^2 + \\sigma^2\\varphi^2 \\right]$.\n",
    "\n",
    "From these formulae, it appears that the terms in the products are invariant to the allocation orders. This means that if we were to intervert $\\phi_k$ with $\\phi_{k'}$, the value of the objective function would still be the same. This invites us to consider only one allocation value $\\phi$ through out the investment period and minimize the function\n",
    "\\begin{equation}\n",
    "\\left< \\left( \\mathcal{W}_K^2 - \\omega \\right)^2 \\right> = \\mathcal{W}_0^2 B\\left( \\phi \\right)^K - 2\\omega\\mathcal{W}_0 A\\left( \\phi \\right)^K + \\omega^2\n",
    "\\end{equation}\n",
    "\n",
    "The model is strictly equivalent to playing $K$ times a game of independant returns $\\mu = m + \\sigma\\epsilon$ with a bet $\\phi$.\n",
    "\n",
    "### Important Note\n",
    "The assumption on the noise process $\\epsilon_k$ is very simplistic as returns should rather be described with a student distribution - or any other fat tail capturing statistical distribution. As we are interested in a methodology to compute investment weights accross time for a goal based investment, we will not concern ourselves with these advanced statistical aspects."
   ]
  },
  {
   "cell_type": "markdown",
   "id": "86a60127",
   "metadata": {},
   "source": [
    "# Code\n",
    "First we import the necessary packages and functions. Note that we will make use of python's ```numba``` library to speed up the simulations of wealth."
   ]
  },
  {
   "cell_type": "code",
   "execution_count": 1,
   "id": "5446871c",
   "metadata": {},
   "outputs": [],
   "source": [
    "import numpy as np\n",
    "import scipy.optimize as optimize\n",
    "import matplotlib.pyplot as plt\n",
    "\n",
    "from numba import njit              # Useful to speed up loops on numpy objects\n",
    "\n",
    "AWESOME_PURPLE = 0.55, 0.42, 1"
   ]
  },
  {
   "cell_type": "markdown",
   "id": "a2ae3b75",
   "metadata": {},
   "source": [
    "And now the parameters..."
   ]
  },
  {
   "cell_type": "code",
   "execution_count": 2,
   "id": "bcdb4eb7",
   "metadata": {},
   "outputs": [],
   "source": [
    "m = 0.02592           # Average monthly returns of the ETF CAC40 Lyxor from 2010 to 2020 (included)\n",
    "sigma = 0.06164       # Standard deviation of that same asset, same period\n",
    "\n",
    "K = 12*30             # Investment period - rather long to mimic retirement planning, i.e. 30 years\n",
    "S = 1000000           # Number of Mone-Carlo samples for final computations\n",
    "W0 = 1                # Initial wealth -- as the equations are linear in W_0, we can set its value to 1\n",
    "\n",
    "R = 10                # Expected returns...\n",
    "omega = (1 + R)*W0    # written as an investment goal"
   ]
  },
  {
   "cell_type": "markdown",
   "id": "49f05b74",
   "metadata": {},
   "source": [
    "## First helper functions for the optimization\n",
    "Let's first define $A$ and $B$ as introduced in the first section and the resulting objective function. Note that the ```@njt``` decorator is added at the top of the functions as it seems to speed up calculations a little.\n",
    "```python\n",
    "@njit(nogil = True)\n",
    "def A(phi):\n",
    "    return 1 + m*phi\n",
    "\n",
    "@njit(nogil = True)\n",
    "def B(phi):\n",
    "    return A(phi)**2 + sigma**2*phi**2\n",
    "\n",
    "@njit(nogil = True)\n",
    "def Objective(phi):\n",
    "    objective = W0**2*np.power(B(phi), K)\n",
    "    objective -= 2*omega*W0*np.power(A(phi), K)\n",
    "    objective += omega**2\n",
    "    return objective\n",
    "\n",
    "%timeit optimize.minimize(Objective, 0, bounds = [[0, 1]], method = \"SLSQP\")\n",
    "1.01 ms ± 4.21 µs per loop (mean ± std. dev. of 7 runs, 1000 loops each)\n",
    "\n",
    "# @njit(nogil = True)\n",
    "def A(phi):\n",
    "    return 1 + m*phi\n",
    "\n",
    "# @njit(nogil = True)\n",
    "def B(phi):\n",
    "    return A(phi)**2 + sigma**2*phi**2\n",
    "\n",
    "# @njit(nogil = True)\n",
    "def Objective(phi):\n",
    "    objective = W0**2*np.power(B(phi), K)\n",
    "    objective -= 2*omega*W0*np.power(A(phi), K)\n",
    "    objective += omega**2\n",
    "    return objective\n",
    "\n",
    "%timeit optimize.minimize(Objective, 0, bounds = [[0, 1]], method = \"SLSQP\")\n",
    "1.43 ms ± 47 µs per loop (mean ± std. dev. of 7 runs, 1000 loops each)\n",
    "```"
   ]
  },
  {
   "cell_type": "code",
   "execution_count": 3,
   "id": "ebce105a",
   "metadata": {},
   "outputs": [],
   "source": [
    "@njit(nogil = True)\n",
    "def A(phi):\n",
    "    return 1 + m*phi\n",
    "\n",
    "@njit(nogil = True)\n",
    "def B(phi):\n",
    "    return A(phi)**2 + sigma**2*phi**2\n",
    "\n",
    "@njit(nogil = True)\n",
    "def Objective(phi):\n",
    "    objective = W0**2*np.power(B(phi), K)\n",
    "    objective -= 2*omega*W0*np.power(A(phi), K)\n",
    "    objective += omega**2\n",
    "    return objective"
   ]
  },
  {
   "cell_type": "markdown",
   "id": "86211439",
   "metadata": {},
   "source": [
    "## Optimization"
   ]
  },
  {
   "cell_type": "code",
   "execution_count": 4,
   "id": "7cfa5ad6",
   "metadata": {},
   "outputs": [
    {
     "name": "stdout",
     "output_type": "stream",
     "text": [
      "Optimal allocation: 0.2453\n"
     ]
    }
   ],
   "source": [
    "results = optimize.minimize(Objective, 0, bounds = [[0, 1]], method = \"SLSQP\")\n",
    "phi_optim = results.x.copy()[0]\n",
    "print(f\"Optimal allocation: {phi_optim:.4f}\")"
   ]
  },
  {
   "cell_type": "markdown",
   "id": "2fe8c275",
   "metadata": {},
   "source": [
    "## Result analysis\n",
    "Now that we have the results of the optimization, we know the amount to place at each period. We now implement, the methods for the Monte-Carlo Simulations for the analysis of the optimal strategy $\\phi^*$.\n",
    "- ```computeRiskyReturns(...)``` simulates risky returns\n",
    "- ```computeWealth(...)``` simulates our wealth, and\n",
    "- ```computeTargetProba(...)``` computes from the Monte-Carlo Samples, the probability of reaching the investment goal and beyond."
   ]
  },
  {
   "cell_type": "code",
   "execution_count": 5,
   "id": "eefa2184",
   "metadata": {},
   "outputs": [
    {
     "ename": "TypingError",
     "evalue": "Failed in nopython mode pipeline (step: nopython frontend)\n\u001b[1m\u001b[1m\u001b[1mNo implementation of function Function(<built-in function zeros>) found for signature:\n \n >>> zeros(shape=Tuple(float64, int64))\n \nThere are 2 candidate implementations:\n\u001b[1m  - Of which 2 did not match due to:\n  Overload of function 'zeros': File: numba/core/typing/npydecl.py: Line 511.\n    With argument(s): '(shape=Tuple(float64, int64))':\u001b[0m\n\u001b[1m   No match.\u001b[0m\n\u001b[0m\n\u001b[0m\u001b[1mDuring: resolving callee type: Function(<built-in function zeros>)\u001b[0m\n\u001b[0m\u001b[1mDuring: typing of call at <ipython-input-5-30deffb075ea> (4)\n\u001b[0m\n\u001b[1m\nFile \"<ipython-input-5-30deffb075ea>\", line 4:\u001b[0m\n\u001b[1mdef computeRiskyReturns(K, S):\n    <source elided>\n    np.random.seed(0)\n\u001b[1m    mu = np.zeros(shape = (S, K))\n\u001b[0m    \u001b[1m^\u001b[0m\u001b[0m\n",
     "output_type": "error",
     "traceback": [
      "\u001b[0;31m---------------------------------------------------------------------------\u001b[0m",
      "\u001b[0;31mTypingError\u001b[0m                               Traceback (most recent call last)",
      "\u001b[0;32m<ipython-input-5-30deffb075ea>\u001b[0m in \u001b[0;36m<module>\u001b[0;34m\u001b[0m\n\u001b[1;32m     24\u001b[0m     \u001b[0;32mreturn\u001b[0m \u001b[0;34m(\u001b[0m\u001b[0mcomputeWealth\u001b[0m\u001b[0;34m(\u001b[0m\u001b[0mphi\u001b[0m\u001b[0;34m,\u001b[0m \u001b[0mW0\u001b[0m\u001b[0;34m,\u001b[0m \u001b[0mmu\u001b[0m\u001b[0;34m)\u001b[0m \u001b[0;34m>\u001b[0m \u001b[0momega\u001b[0m\u001b[0;34m)\u001b[0m\u001b[0;34m.\u001b[0m\u001b[0mmean\u001b[0m\u001b[0;34m(\u001b[0m\u001b[0;34m)\u001b[0m\u001b[0;34m\u001b[0m\u001b[0;34m\u001b[0m\u001b[0m\n\u001b[1;32m     25\u001b[0m \u001b[0;34m\u001b[0m\u001b[0m\n\u001b[0;32m---> 26\u001b[0;31m \u001b[0mmu\u001b[0m \u001b[0;34m=\u001b[0m \u001b[0mcomputeRiskyReturns\u001b[0m\u001b[0;34m(\u001b[0m\u001b[0mK\u001b[0m\u001b[0;34m,\u001b[0m \u001b[0mS\u001b[0m\u001b[0;34m)\u001b[0m\u001b[0;34m\u001b[0m\u001b[0;34m\u001b[0m\u001b[0m\n\u001b[0m\u001b[1;32m     27\u001b[0m \u001b[0mgoal_proba\u001b[0m \u001b[0;34m=\u001b[0m \u001b[0mcomputeTargetProba\u001b[0m\u001b[0;34m(\u001b[0m\u001b[0mnp\u001b[0m\u001b[0;34m.\u001b[0m\u001b[0marray\u001b[0m\u001b[0;34m(\u001b[0m\u001b[0;34m[\u001b[0m\u001b[0mphi_optim\u001b[0m\u001b[0;34m]\u001b[0m\u001b[0;34m)\u001b[0m\u001b[0;34m,\u001b[0m \u001b[0mW0\u001b[0m\u001b[0;34m,\u001b[0m \u001b[0mmu\u001b[0m\u001b[0;34m,\u001b[0m \u001b[0mR\u001b[0m\u001b[0;34m)\u001b[0m\u001b[0;34m\u001b[0m\u001b[0;34m\u001b[0m\u001b[0m\n\u001b[1;32m     28\u001b[0m \u001b[0mprint\u001b[0m\u001b[0;34m(\u001b[0m\u001b[0;34mf\"Proba to achieve goal: {goal_proba:.4f}\"\u001b[0m\u001b[0;34m)\u001b[0m\u001b[0;34m\u001b[0m\u001b[0;34m\u001b[0m\u001b[0m\n",
      "\u001b[0;32m~/anaconda3/lib/python3.8/site-packages/numba/core/dispatcher.py\u001b[0m in \u001b[0;36m_compile_for_args\u001b[0;34m(self, *args, **kws)\u001b[0m\n\u001b[1;32m    418\u001b[0m                 \u001b[0me\u001b[0m\u001b[0;34m.\u001b[0m\u001b[0mpatch_message\u001b[0m\u001b[0;34m(\u001b[0m\u001b[0mmsg\u001b[0m\u001b[0;34m)\u001b[0m\u001b[0;34m\u001b[0m\u001b[0;34m\u001b[0m\u001b[0m\n\u001b[1;32m    419\u001b[0m \u001b[0;34m\u001b[0m\u001b[0m\n\u001b[0;32m--> 420\u001b[0;31m             \u001b[0merror_rewrite\u001b[0m\u001b[0;34m(\u001b[0m\u001b[0me\u001b[0m\u001b[0;34m,\u001b[0m \u001b[0;34m'typing'\u001b[0m\u001b[0;34m)\u001b[0m\u001b[0;34m\u001b[0m\u001b[0;34m\u001b[0m\u001b[0m\n\u001b[0m\u001b[1;32m    421\u001b[0m         \u001b[0;32mexcept\u001b[0m \u001b[0merrors\u001b[0m\u001b[0;34m.\u001b[0m\u001b[0mUnsupportedError\u001b[0m \u001b[0;32mas\u001b[0m \u001b[0me\u001b[0m\u001b[0;34m:\u001b[0m\u001b[0;34m\u001b[0m\u001b[0;34m\u001b[0m\u001b[0m\n\u001b[1;32m    422\u001b[0m             \u001b[0;31m# Something unsupported is present in the user code, add help info\u001b[0m\u001b[0;34m\u001b[0m\u001b[0;34m\u001b[0m\u001b[0;34m\u001b[0m\u001b[0m\n",
      "\u001b[0;32m~/anaconda3/lib/python3.8/site-packages/numba/core/dispatcher.py\u001b[0m in \u001b[0;36merror_rewrite\u001b[0;34m(e, issue_type)\u001b[0m\n\u001b[1;32m    359\u001b[0m                 \u001b[0;32mraise\u001b[0m \u001b[0me\u001b[0m\u001b[0;34m\u001b[0m\u001b[0;34m\u001b[0m\u001b[0m\n\u001b[1;32m    360\u001b[0m             \u001b[0;32melse\u001b[0m\u001b[0;34m:\u001b[0m\u001b[0;34m\u001b[0m\u001b[0;34m\u001b[0m\u001b[0m\n\u001b[0;32m--> 361\u001b[0;31m                 \u001b[0;32mraise\u001b[0m \u001b[0me\u001b[0m\u001b[0;34m.\u001b[0m\u001b[0mwith_traceback\u001b[0m\u001b[0;34m(\u001b[0m\u001b[0;32mNone\u001b[0m\u001b[0;34m)\u001b[0m\u001b[0;34m\u001b[0m\u001b[0;34m\u001b[0m\u001b[0m\n\u001b[0m\u001b[1;32m    362\u001b[0m \u001b[0;34m\u001b[0m\u001b[0m\n\u001b[1;32m    363\u001b[0m         \u001b[0margtypes\u001b[0m \u001b[0;34m=\u001b[0m \u001b[0;34m[\u001b[0m\u001b[0;34m]\u001b[0m\u001b[0;34m\u001b[0m\u001b[0;34m\u001b[0m\u001b[0m\n",
      "\u001b[0;31mTypingError\u001b[0m: Failed in nopython mode pipeline (step: nopython frontend)\n\u001b[1m\u001b[1m\u001b[1mNo implementation of function Function(<built-in function zeros>) found for signature:\n \n >>> zeros(shape=Tuple(float64, int64))\n \nThere are 2 candidate implementations:\n\u001b[1m  - Of which 2 did not match due to:\n  Overload of function 'zeros': File: numba/core/typing/npydecl.py: Line 511.\n    With argument(s): '(shape=Tuple(float64, int64))':\u001b[0m\n\u001b[1m   No match.\u001b[0m\n\u001b[0m\n\u001b[0m\u001b[1mDuring: resolving callee type: Function(<built-in function zeros>)\u001b[0m\n\u001b[0m\u001b[1mDuring: typing of call at <ipython-input-5-30deffb075ea> (4)\n\u001b[0m\n\u001b[1m\nFile \"<ipython-input-5-30deffb075ea>\", line 4:\u001b[0m\n\u001b[1mdef computeRiskyReturns(K, S):\n    <source elided>\n    np.random.seed(0)\n\u001b[1m    mu = np.zeros(shape = (S, K))\n\u001b[0m    \u001b[1m^\u001b[0m\u001b[0m\n"
     ]
    }
   ],
   "source": [
    "@njit(nogil = True)\n",
    "def computeRiskyReturns(K, S):\n",
    "    np.random.seed(0)\n",
    "    mu = np.zeros(shape = (S, K))\n",
    "    for s in range(S):\n",
    "        for k in range(K):\n",
    "            mu[s, k] = np.random.normal(loc = m, scale = sigma)\n",
    "    return mu\n",
    "\n",
    "@njit(nogil = True)\n",
    "def computeWealth(phi, W0, mu):\n",
    "    S, K = mu.shape\n",
    "    W = np.zeros(shape = S)\n",
    "    for s in range(S):\n",
    "        WK = W0\n",
    "        for k in range(K):\n",
    "            risky_returns = mu[s, k]*phi\n",
    "            WK *= np.maximum(0, 1 + risky_returns[0])\n",
    "        W[s] = WK\n",
    "    return W\n",
    "\n",
    "@njit(nogil = True)\n",
    "def computeTargetProba(phi, W0, mu, R):\n",
    "    return (computeWealth(phi, W0, mu) > omega).mean()\n",
    "\n",
    "mu = computeRiskyReturns(K, S)\n",
    "goal_proba = computeTargetProba(np.array([phi_optim]), W0, mu, R)\n",
    "print(f\"Proba to achieve goal: {goal_proba:.4f}\")"
   ]
  },
  {
   "cell_type": "markdown",
   "id": "42797340",
   "metadata": {},
   "source": [
    "It seems that reaching the goal is not necessarily the most probable outcome as the distribution skews positively with $K$. Longer the maturity of the investment, the more probable are positive outcomes.\n",
    "\n",
    "Nonetheless, we should have a look at the minimum expected returns we ought to get with that investment strategy. To do so, we compute the cumulative distribution and search for the overall investment's return values which are very likely to occur."
   ]
  },
  {
   "cell_type": "code",
   "execution_count": null,
   "id": "806b39a3",
   "metadata": {},
   "outputs": [],
   "source": [
    "WK = computeWealth(np.array(K*[phi_optim]), W0, mu)\n",
    "proba, bins, _ = plt.hist(WK, bins = 1000, density = True, cumulative = True)\n",
    "plt.close()\n",
    "R_values = (.5*(bins[1:] + bins[:-1]) - 1)/W0"
   ]
  },
  {
   "cell_type": "markdown",
   "id": "dff10cbe",
   "metadata": {},
   "source": [
    "Two KPI's are of interest here. First the minimal return the investor should expect with probability 95% $R_{95}$. Second, the average of the 5% worst values, the 5% expected shortfall $ES_{5}$."
   ]
  },
  {
   "cell_type": "code",
   "execution_count": null,
   "id": "5c639050",
   "metadata": {},
   "outputs": [],
   "source": [
    "R_95 = (bins[np.searchsorted(proba, .05) - 1] - 1)/W0\n",
    "ES_5 = ((WK*(WK < (1 + R_95)*W0)).sum()/(WK < (1 + R_95)*W0).sum() - 1)/W0"
   ]
  },
  {
   "cell_type": "code",
   "execution_count": null,
   "id": "b232be8a",
   "metadata": {},
   "outputs": [],
   "source": [
    "_ = plt.figure(figsize = (20, 10))\n",
    "_ = plt.plot(R_values, 1 - proba, color = AWESOME_PURPLE, linewidth = 5)\n",
    "_ = plt.xlabel(r\"$R$\", fontsize = 20)\n",
    "_ = plt.ylabel(r\"Probability of at least $R$ returns\", fontsize = 20)\n",
    "_ = plt.suptitle(f\"Ideal objective ({100*goal_proba:.0f}%) \" + r\"$R = \" + f\"{R:.2f}\" + r\"$ -- Realistic objective (95%) $R = \" + f\"{R_95:.2f}\" + r\"$\", fontsize = 30)\n",
    "_ = plt.title(f\"Expected Shortfall (5%) \" + r\"$ES_5 = \" + f\"{ES_5:.2f}\" + \"$\", fontsize = 20)"
   ]
  },
  {
   "cell_type": "markdown",
   "id": "411c6bc5",
   "metadata": {},
   "source": [
    "# Conclusion\n",
    "\n",
    "This short study has extremly positive outcomes. Mainly because it supposes that the risky asset's returns are gaussian white noise. In reality, these returns ought to be with at least a student distribution and more accurately with a stochastic volatility.\n",
    "\n",
    "Nonetheless, the methodology holds. For more complex statistical models, a complete switch to Monte Carlo Methods would be required. "
   ]
  }
 ],
 "metadata": {
  "kernelspec": {
   "display_name": "Python 3",
   "language": "python",
   "name": "python3"
  },
  "language_info": {
   "codemirror_mode": {
    "name": "ipython",
    "version": 3
   },
   "file_extension": ".py",
   "mimetype": "text/x-python",
   "name": "python",
   "nbconvert_exporter": "python",
   "pygments_lexer": "ipython3",
   "version": "3.8.8"
  }
 },
 "nbformat": 4,
 "nbformat_minor": 5
}
