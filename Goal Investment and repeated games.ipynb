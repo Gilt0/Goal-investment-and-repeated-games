{
 "cells": [
  {
   "cell_type": "markdown",
   "id": "1b85f679",
   "metadata": {},
   "source": [
    "*The above references an opinion and is for information purposes only. It is not intended to be investment advice. Seek a duly licensed professional for investment advice.*\n",
    "\n",
    "\n",
    "# Investment Model\n",
    "\n",
    "Say you're an investor with an initial wealth $\\mathcal W_0$. There is a risky asset of returns $\\mu_k = m + \\sigma\\epsilon_k$ with $\\epsilon_k$ a gaussian white noise.\n",
    "\n",
    "As an investor we want to know what ratio of our cash $\\phi_k$ should go into the risky asset at every time step $k$.\n",
    "\n",
    "Our wealth's dynamics is defined recursively with the wealth increaments being equal to the gains from the risky investments over the period. We suppose that riskless rates are zero and therefore, the wealth at time $k + 1$ is\n",
    "$$\n",
    "\\mathcal W_{k + 1} = \\mathcal W_{k + 1}\\left( 1 + \\mu_k\\phi_k \\right).\n",
    "$$\n",
    "\n",
    "At a time horizon $K$, we thus have\n",
    "$$\n",
    "\\mathcal W_{K} = \\mathcal W_{0}\\prod_{k = 0}^{K - 1}\\left( 1 + \\mu_k\\phi_k \\right).\n",
    "$$\n",
    "\n",
    "Now, say we have an ideal investment goal of value $\\omega = \\left( 1 + R \\right)\\mathcal W_{0}$. Following  [Bouchaud and Potters](https://www.cambridge.org/core/books/theory-of-financial-risk-and-derivative-pricing/5BBBA04CE72ED9E5E7C1C028D9A94FCB \"My Quant bible\") (see page 218), I choose to minimise\n",
    "\n",
    "$$\n",
    "\\left< \\left( \\mathcal{W}_K^2 - \\omega \\right)^2 \\right>.\n",
    "$$\n",
    "After some algebra, the above quantity can be expressed as\n",
    "$$\n",
    "\\mathcal{W}_0^2 \\prod_{k = 0}^{K - 1} B\\left( \\phi_k \\right) - 2\\omega\\mathcal{W}_0\\prod_{k = 0}^{K - 1} A\\left( \\phi_k \\right) + \\omega^2\n",
    "$$\n",
    "with $A\\left(\\varphi\\right) = 1 + m\\varphi$ and $B\\left(\\varphi\\right) = \\left[ A\\left(\\varphi\\right)^2 + \\sigma^2\\varphi^2 \\right]$.\n",
    "\n",
    "From these formulae, it appears that the terms in the products are invariant to the allocation orders. This means that if we were to intervert $\\phi_k$ with $\\phi_{k'}$, the value of the objective function would still be the same. This invites us to consider only one allocation value $\\phi$ through out the investment period and minimize the function\n",
    "$$\n",
    "\\left< \\left( \\mathcal{W}_K^2 - \\omega \\right)^2 \\right> = \\mathcal{W}_0^2 B\\left( \\phi \\right)^K - 2\\omega\\mathcal{W}_0 A\\left( \\phi \\right)^K + \\omega^2\n",
    "$$\n",
    "\n",
    "The model is strictly equivalent to playing $K$ times a game of independant returns $\\mu = m + \\sigma\\epsilon$ with a bet $\\phi$.\n",
    "\n",
    "### Important Note\n",
    "The assumption on the noise process $\\epsilon_k$ is very simplistic as returns should rather be described with a student distribution - or any other fat tail capturing statistical distribution. As we are interested in a methodology to compute investment weights accross time for a goal based investment, we will not concern ourselves with these advanced statistical aspects."
   ]
  },
  {
   "cell_type": "markdown",
   "id": "86a60127",
   "metadata": {},
   "source": [
    "# Code\n",
    "First we import the necessary packages and functions. Note that we will make use of python's ```numba``` library to speed up the simulations of wealth."
   ]
  },
  {
   "cell_type": "code",
   "execution_count": 1,
   "id": "5446871c",
   "metadata": {},
   "outputs": [],
   "source": [
    "import numpy as np\n",
    "import scipy.optimize as optimize\n",
    "import matplotlib.pyplot as plt\n",
    "\n",
    "from numba import njit              # Useful to speed up loops on numpy objects\n",
    "\n",
    "AWESOME_PURPLE = 0.55, 0.42, 1"
   ]
  },
  {
   "cell_type": "markdown",
   "id": "a2ae3b75",
   "metadata": {},
   "source": [
    "And now the parameters..."
   ]
  },
  {
   "cell_type": "code",
   "execution_count": 2,
   "id": "bcdb4eb7",
   "metadata": {},
   "outputs": [],
   "source": [
    "m = 0.02592           # Average monthly returns of the ETF CAC40 Lyxor from 2010 to 2020 (included)\n",
    "sigma = 0.06164       # Standard deviation of that same asset, same period\n",
    "\n",
    "K = 12*30             # Investment period - rather long to mimic retirement planning, i.e. 30 years\n",
    "S = 1000000           # Number of Mone-Carlo samples for final computations\n",
    "W0 = 1                # Initial wealth -- as the equations are linear in W_0, we can set its value to 1\n",
    "\n",
    "R = 10                # Expected returns...\n",
    "omega = (1 + R)*W0    # written as an investment goal"
   ]
  },
  {
   "cell_type": "markdown",
   "id": "49f05b74",
   "metadata": {},
   "source": [
    "## First helper functions for the optimization\n",
    "Let's first define $A$ and $B$ as introduced in the first section and the resulting objective function. Note that the ```@njt``` decorator is added at the top of the functions as it seems to speed up calculations a little.\n",
    "```python\n",
    "@njit(nogil = True)\n",
    "def A(phi):\n",
    "    return 1 + m*phi\n",
    "\n",
    "@njit(nogil = True)\n",
    "def B(phi):\n",
    "    return A(phi)**2 + sigma**2*phi**2\n",
    "\n",
    "@njit(nogil = True)\n",
    "def Objective(phi):\n",
    "    objective = W0**2*np.power(B(phi), K)\n",
    "    objective -= 2*omega*W0*np.power(A(phi), K)\n",
    "    objective += omega**2\n",
    "    return objective\n",
    "\n",
    "%timeit optimize.minimize(Objective, 0, bounds = [[0, 1]], method = \"SLSQP\")\n",
    "1.01 ms ± 4.21 µs per loop (mean ± std. dev. of 7 runs, 1000 loops each)\n",
    "\n",
    "# @njit(nogil = True)\n",
    "def A(phi):\n",
    "    return 1 + m*phi\n",
    "\n",
    "# @njit(nogil = True)\n",
    "def B(phi):\n",
    "    return A(phi)**2 + sigma**2*phi**2\n",
    "\n",
    "# @njit(nogil = True)\n",
    "def Objective(phi):\n",
    "    objective = W0**2*np.power(B(phi), K)\n",
    "    objective -= 2*omega*W0*np.power(A(phi), K)\n",
    "    objective += omega**2\n",
    "    return objective\n",
    "\n",
    "%timeit optimize.minimize(Objective, 0, bounds = [[0, 1]], method = \"SLSQP\")\n",
    "1.43 ms ± 47 µs per loop (mean ± std. dev. of 7 runs, 1000 loops each)\n",
    "```"
   ]
  },
  {
   "cell_type": "code",
   "execution_count": 3,
   "id": "ebce105a",
   "metadata": {},
   "outputs": [],
   "source": [
    "@njit(nogil = True)\n",
    "def A(phi):\n",
    "    return 1 + m*phi\n",
    "\n",
    "@njit(nogil = True)\n",
    "def B(phi):\n",
    "    return A(phi)**2 + sigma**2*phi**2\n",
    "\n",
    "@njit(nogil = True)\n",
    "def Objective(phi):\n",
    "    objective = W0**2*np.power(B(phi), K)\n",
    "    objective -= 2*omega*W0*np.power(A(phi), K)\n",
    "    objective += omega**2\n",
    "    return objective"
   ]
  },
  {
   "cell_type": "markdown",
   "id": "86211439",
   "metadata": {},
   "source": [
    "## Optimization"
   ]
  },
  {
   "cell_type": "code",
   "execution_count": 4,
   "id": "7cfa5ad6",
   "metadata": {},
   "outputs": [
    {
     "name": "stdout",
     "output_type": "stream",
     "text": [
      "Optimal allocation: 0.2453\n"
     ]
    }
   ],
   "source": [
    "results = optimize.minimize(Objective, 0, bounds = [[0, 1]], method = \"SLSQP\")\n",
    "phi_optim = results.x.copy()[0]\n",
    "print(f\"Optimal allocation: {phi_optim:.4f}\")"
   ]
  },
  {
   "cell_type": "markdown",
   "id": "2fe8c275",
   "metadata": {},
   "source": [
    "## Result analysis\n",
    "Now that we have the results of the optimization, we know the amount to place at each period. We now implement, the methods for the Monte-Carlo Simulations for the analysis of the optimal strategy $\\phi^*$.\n",
    "- ```computeRiskyReturns(...)``` simulates risky returns\n",
    "- ```computeWealth(...)``` simulates our wealth, and\n",
    "- ```computeTargetProba(...)``` computes from the Monte-Carlo Samples, the probability of reaching the investment goal and beyond."
   ]
  },
  {
   "cell_type": "code",
   "execution_count": 5,
   "id": "eefa2184",
   "metadata": {},
   "outputs": [
    {
     "name": "stdout",
     "output_type": "stream",
     "text": [
      "Proba to achieve goal: 0.2919\n"
     ]
    }
   ],
   "source": [
    "@njit(nogil = True)\n",
    "def computeRiskyReturns(K, S):\n",
    "    np.random.seed(0)\n",
    "    mu = np.zeros(shape = (S, K))\n",
    "    for s in range(S):\n",
    "        for k in range(K):\n",
    "            mu[s, k] = np.random.normal(loc = m, scale = sigma)\n",
    "    return mu\n",
    "\n",
    "@njit(nogil = True)\n",
    "def computeWealth(phi, W0, mu):\n",
    "    S, K = mu.shape\n",
    "    W = np.zeros(shape = S)\n",
    "    for s in range(S):\n",
    "        WK = W0\n",
    "        for k in range(K):\n",
    "            risky_returns = mu[s, k]*phi\n",
    "            WK *= np.maximum(0, 1 + risky_returns[0])\n",
    "        W[s] = WK\n",
    "    return W\n",
    "\n",
    "@njit(nogil = True)\n",
    "def computeTargetProba(phi, W0, mu, R):\n",
    "    return (computeWealth(phi, W0, mu) > omega).mean()\n",
    "\n",
    "mu = computeRiskyReturns(K, S)\n",
    "goal_proba = computeTargetProba(np.array([phi_optim]), W0, mu, R)\n",
    "print(f\"Proba to achieve goal: {goal_proba:.4f}\")"
   ]
  },
  {
   "cell_type": "markdown",
   "id": "42797340",
   "metadata": {},
   "source": [
    "It seems that reaching the goal is not necessarily the most probable outcome as the distribution skews positively with $K$. The longer the maturity of the investment, the higher are extrem positive.\n",
    "\n",
    "Nonetheless, we should have a look at the minimum expected returns we ought to get with that investment strategy. To do so, we compute the cumulative distribution and search for the overall investment's return values which are very likely to occur."
   ]
  },
  {
   "cell_type": "code",
   "execution_count": 6,
   "id": "806b39a3",
   "metadata": {},
   "outputs": [],
   "source": [
    "WK = computeWealth(np.array(K*[phi_optim]), W0, mu)\n",
    "proba, bins, _ = plt.hist(WK, bins = 1000, density = True, cumulative = True)\n",
    "plt.close()\n",
    "R_values = (.5*(bins[1:] + bins[:-1]) - 1)/W0"
   ]
  },
  {
   "cell_type": "markdown",
   "id": "e838a472",
   "metadata": {},
   "source": [
    "Two KPI's are of interest here. First the minimal return the investor should expect with probability 95% $R_{95}$. Second, the average of the 5% worst values, the 5% expected shortfall $ES_{5}$."
   ]
  },
  {
   "cell_type": "code",
   "execution_count": 7,
   "id": "e112f015",
   "metadata": {},
   "outputs": [],
   "source": [
    "R_95 = (bins[np.searchsorted(proba, .05) - 1] - 1)/W0\n",
    "ES_5 = ((WK*(WK < (1 + R_95)*W0)).sum()/(WK < (1 + R_95)*W0).sum() - 1)/W0"
   ]
  },
  {
   "cell_type": "code",
   "execution_count": 8,
   "id": "b232be8a",
   "metadata": {},
   "outputs": [
    {
     "data": {
      "image/png": "[encoded data removed]",
      "text/plain": [
       "<Figure size 1440x720 with 1 Axes>"
      ]
     },
     "metadata": {
      "needs_background": "light"
     },
     "output_type": "display_data"
    }
   ],
   "source": [
    "_ = plt.figure(figsize = (20, 10))\n",
    "_ = plt.plot(R_values, 1 - proba, color = AWESOME_PURPLE, linewidth = 5)\n",
    "_ = plt.xlabel(r\"$R$\", fontsize = 20)\n",
    "_ = plt.ylabel(r\"Probability of at least $R$ returns\", fontsize = 20)\n",
    "_ = plt.suptitle(f\"Ideal objective ({100*goal_proba:.0f}%) \" + r\"$R = \" + f\"{R:.2f}\" + r\"$ -- Realistic objective (95%) $R = \" + f\"{R_95:.2f}\" + r\"$\", fontsize = 30)\n",
    "_ = plt.title(f\"Expected Shortfall (5%) \" + r\"$ES_5 = \" + f\"{ES_5:.2f}\" + \"$\", fontsize = 20)"
   ]
  },
  {
   "cell_type": "markdown",
   "id": "f6d67485",
   "metadata": {},
   "source": [
    "# Conclusion\n",
    "\n",
    "This short study has extremly positive outcomes. Mainly because it supposes that the risky asset's returns are gaussian white noise.\n",
    "\n",
    "Nonetheless, the methodology holds. For more accurate statistical models, a complete switch to Monte Carlo Methods would be required. A better model would\n",
    "- use a stochastic volatility model for the returns, allowing for sudden jumps in the price of the risky asset,\n",
    "- input regular payments to the fund.\n",
    "\n",
    "Another improvement would be to use a dynamical optimal strategy of Bouchaud et al's, going backward in time. I did not use this methodology as I was really curious of the optimal strategy with a static approach. \n",
    "\n",
    "And of course, the strategy could also be backtested which would provide even greater insights."
   ]
  }
 ],
 "metadata": {
  "kernelspec": {
   "display_name": "Python 3",
   "language": "python",
   "name": "python3"
  },
  "language_info": {
   "codemirror_mode": {
    "name": "ipython",
    "version": 3
   },
   "file_extension": ".py",
   "mimetype": "text/x-python",
   "name": "python",
   "nbconvert_exporter": "python",
   "pygments_lexer": "ipython3",
   "version": "3.8.8"
  }
 },
 "nbformat": 4,
 "nbformat_minor": 5
}
